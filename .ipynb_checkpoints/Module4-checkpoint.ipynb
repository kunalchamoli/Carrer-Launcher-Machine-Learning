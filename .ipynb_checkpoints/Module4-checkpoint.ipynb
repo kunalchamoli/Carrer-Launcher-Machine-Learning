{
 "cells": [
  {
   "cell_type": "markdown",
   "metadata": {},
   "source": [
    "# 4.1"
   ]
  },
  {
   "cell_type": "code",
   "execution_count": 1,
   "metadata": {},
   "outputs": [],
   "source": [
    "import pandas as pd\n",
    "import numpy as np\n",
    "import matplotlib.pyplot as plt\n",
    "import seaborn as sns\n",
    "\n",
    "import warnings\n",
    "warnings.filterwarnings('ignore')"
   ]
  },
  {
   "cell_type": "code",
   "execution_count": 16,
   "metadata": {},
   "outputs": [],
   "source": [
    "df = pd.read_csv('bollinger.csv', index_col='Date')\n",
    "df.dropna(inplace=True)"
   ]
  },
  {
   "cell_type": "code",
   "execution_count": 17,
   "metadata": {},
   "outputs": [
    {
     "data": {
      "text/html": [
       "<div>\n",
       "<style scoped>\n",
       "    .dataframe tbody tr th:only-of-type {\n",
       "        vertical-align: middle;\n",
       "    }\n",
       "\n",
       "    .dataframe tbody tr th {\n",
       "        vertical-align: top;\n",
       "    }\n",
       "\n",
       "    .dataframe thead th {\n",
       "        text-align: right;\n",
       "    }\n",
       "</style>\n",
       "<table border=\"1\" class=\"dataframe\">\n",
       "  <thead>\n",
       "    <tr style=\"text-align: right;\">\n",
       "      <th></th>\n",
       "      <th>ADANIPOWER</th>\n",
       "      <th>upper</th>\n",
       "      <th>lower</th>\n",
       "      <th>middle</th>\n",
       "    </tr>\n",
       "    <tr>\n",
       "      <th>Date</th>\n",
       "      <th></th>\n",
       "      <th></th>\n",
       "      <th></th>\n",
       "      <th></th>\n",
       "    </tr>\n",
       "  </thead>\n",
       "  <tbody>\n",
       "    <tr>\n",
       "      <th>2017-06-12</th>\n",
       "      <td>3.731343</td>\n",
       "      <td>7.073351</td>\n",
       "      <td>-7.784706</td>\n",
       "      <td>-0.355678</td>\n",
       "    </tr>\n",
       "    <tr>\n",
       "      <th>2017-06-13</th>\n",
       "      <td>-1.258993</td>\n",
       "      <td>5.273200</td>\n",
       "      <td>-6.969958</td>\n",
       "      <td>-0.848379</td>\n",
       "    </tr>\n",
       "    <tr>\n",
       "      <th>2017-06-14</th>\n",
       "      <td>0.910747</td>\n",
       "      <td>5.289332</td>\n",
       "      <td>-6.971119</td>\n",
       "      <td>-0.840894</td>\n",
       "    </tr>\n",
       "  </tbody>\n",
       "</table>\n",
       "</div>"
      ],
      "text/plain": [
       "            ADANIPOWER     upper     lower    middle\n",
       "Date                                                \n",
       "2017-06-12    3.731343  7.073351 -7.784706 -0.355678\n",
       "2017-06-13   -1.258993  5.273200 -6.969958 -0.848379\n",
       "2017-06-14    0.910747  5.289332 -6.971119 -0.840894"
      ]
     },
     "execution_count": 17,
     "metadata": {},
     "output_type": "execute_result"
    }
   ],
   "source": [
    "df.head(3)"
   ]
  },
  {
   "cell_type": "code",
   "execution_count": 18,
   "metadata": {},
   "outputs": [],
   "source": [
    "def label_call(row):\n",
    "    if row['ADANIPOWER'] < row['lower']:\n",
    "        return 'Buy'\n",
    "    if row['lower'] < row['ADANIPOWER'] < row['middle']:\n",
    "        return 'Hold Buy/ Liquidate Short'\n",
    "    if row['middle'] < row['ADANIPOWER'] < row['upper']:\n",
    "        return 'Hold Short/ Liquidate Buy'\n",
    "    if row['ADANIPOWER'] > row['upper']:\n",
    "        return \"Short\""
   ]
  },
  {
   "cell_type": "code",
   "execution_count": 19,
   "metadata": {},
   "outputs": [],
   "source": [
    "df['Call'] = df.apply (lambda row: label_call(row), axis=1)"
   ]
  },
  {
   "cell_type": "code",
   "execution_count": 20,
   "metadata": {},
   "outputs": [],
   "source": [
    "df.rename({'ADANIPOWER': 'Close Price'}, axis=1, inplace = True)"
   ]
  },
  {
   "cell_type": "code",
   "execution_count": 21,
   "metadata": {},
   "outputs": [
    {
     "data": {
      "text/html": [
       "<div>\n",
       "<style scoped>\n",
       "    .dataframe tbody tr th:only-of-type {\n",
       "        vertical-align: middle;\n",
       "    }\n",
       "\n",
       "    .dataframe tbody tr th {\n",
       "        vertical-align: top;\n",
       "    }\n",
       "\n",
       "    .dataframe thead th {\n",
       "        text-align: right;\n",
       "    }\n",
       "</style>\n",
       "<table border=\"1\" class=\"dataframe\">\n",
       "  <thead>\n",
       "    <tr style=\"text-align: right;\">\n",
       "      <th></th>\n",
       "      <th>Close Price</th>\n",
       "      <th>upper</th>\n",
       "      <th>lower</th>\n",
       "      <th>middle</th>\n",
       "      <th>Call</th>\n",
       "    </tr>\n",
       "    <tr>\n",
       "      <th>Date</th>\n",
       "      <th></th>\n",
       "      <th></th>\n",
       "      <th></th>\n",
       "      <th></th>\n",
       "      <th></th>\n",
       "    </tr>\n",
       "  </thead>\n",
       "  <tbody>\n",
       "    <tr>\n",
       "      <th>2017-06-12</th>\n",
       "      <td>3.731343</td>\n",
       "      <td>7.073351</td>\n",
       "      <td>-7.784706</td>\n",
       "      <td>-0.355678</td>\n",
       "      <td>Hold Short/ Liquidate Buy</td>\n",
       "    </tr>\n",
       "    <tr>\n",
       "      <th>2017-06-13</th>\n",
       "      <td>-1.258993</td>\n",
       "      <td>5.273200</td>\n",
       "      <td>-6.969958</td>\n",
       "      <td>-0.848379</td>\n",
       "      <td>Hold Buy/ Liquidate Short</td>\n",
       "    </tr>\n",
       "    <tr>\n",
       "      <th>2017-06-14</th>\n",
       "      <td>0.910747</td>\n",
       "      <td>5.289332</td>\n",
       "      <td>-6.971119</td>\n",
       "      <td>-0.840894</td>\n",
       "      <td>Hold Short/ Liquidate Buy</td>\n",
       "    </tr>\n",
       "  </tbody>\n",
       "</table>\n",
       "</div>"
      ],
      "text/plain": [
       "            Close Price     upper     lower    middle  \\\n",
       "Date                                                    \n",
       "2017-06-12     3.731343  7.073351 -7.784706 -0.355678   \n",
       "2017-06-13    -1.258993  5.273200 -6.969958 -0.848379   \n",
       "2017-06-14     0.910747  5.289332 -6.971119 -0.840894   \n",
       "\n",
       "                                 Call  \n",
       "Date                                   \n",
       "2017-06-12  Hold Short/ Liquidate Buy  \n",
       "2017-06-13  Hold Buy/ Liquidate Short  \n",
       "2017-06-14  Hold Short/ Liquidate Buy  "
      ]
     },
     "execution_count": 21,
     "metadata": {},
     "output_type": "execute_result"
    }
   ],
   "source": [
    "df.head(3)"
   ]
  },
  {
   "cell_type": "code",
   "execution_count": 22,
   "metadata": {},
   "outputs": [],
   "source": [
    "from sklearn.naive_bayes import GaussianNB\n",
    "from sklearn.model_selection import train_test_split"
   ]
  },
  {
   "cell_type": "markdown",
   "metadata": {},
   "source": [
    "## Naive Bayes"
   ]
  },
  {
   "cell_type": "code",
   "execution_count": 24,
   "metadata": {},
   "outputs": [
    {
     "name": "stdout",
     "output_type": "stream",
     "text": [
      "With NB accuracy is:  0.8881118881118881\n"
     ]
    }
   ],
   "source": [
    "nb = GaussianNB()\n",
    "x,y = df.drop(['Call'],axis=1), df['Call']\n",
    "x_train,x_test,y_train,y_test = train_test_split(x,y,test_size = 0.3,random_state = 1)\n",
    "nb.fit(x_train,y_train)\n",
    "prediction = nb.predict(x_test)\n",
    "\n",
    "print('With NB accuracy is: ',nb.score(x_test,y_test)) # accuracy"
   ]
  },
  {
   "cell_type": "markdown",
   "metadata": {},
   "source": [
    "## Decision Tree"
   ]
  },
  {
   "cell_type": "code",
   "execution_count": 25,
   "metadata": {},
   "outputs": [],
   "source": [
    "from sklearn.tree import DecisionTreeClassifier\n",
    "from sklearn.model_selection import train_test_split"
   ]
  },
  {
   "cell_type": "code",
   "execution_count": 27,
   "metadata": {},
   "outputs": [
    {
     "name": "stdout",
     "output_type": "stream",
     "text": [
      "With Decision tree accuracy is:  0.8531468531468531\n"
     ]
    }
   ],
   "source": [
    "dtree = DecisionTreeClassifier()\n",
    "x,y = df.drop(['Call'],axis=1), df['Call']\n",
    "x_train,x_test,y_train,y_test = train_test_split(x,y,test_size = 0.3,random_state = 1)\n",
    "dtree.fit(x_train,y_train)\n",
    "prediction = dtree.predict(x_test)\n",
    "\n",
    "print('With Decision tree accuracy is: ',dtree.score(x_test,y_test)) # accuracy"
   ]
  },
  {
   "cell_type": "markdown",
   "metadata": {},
   "source": [
    "## Random Forest"
   ]
  },
  {
   "cell_type": "code",
   "execution_count": 28,
   "metadata": {},
   "outputs": [
    {
     "name": "stderr",
     "output_type": "stream",
     "text": [
      "C:\\Users\\Kunal\\Anaconda3\\lib\\site-packages\\sklearn\\ensemble\\weight_boosting.py:29: DeprecationWarning: numpy.core.umath_tests is an internal NumPy module and should not be imported. It will be removed in a future NumPy release.\n",
      "  from numpy.core.umath_tests import inner1d\n"
     ]
    }
   ],
   "source": [
    "from sklearn.ensemble import RandomForestClassifier\n",
    "from sklearn.model_selection import train_test_split"
   ]
  },
  {
   "cell_type": "code",
   "execution_count": 29,
   "metadata": {},
   "outputs": [
    {
     "name": "stdout",
     "output_type": "stream",
     "text": [
      "With Random Forest accuracy is:  0.9020979020979021\n"
     ]
    }
   ],
   "source": [
    "rf = RandomForestClassifier()\n",
    "x,y = df.drop(['Call'],axis=1), df['Call']\n",
    "x_train,x_test,y_train,y_test = train_test_split(x,y,test_size = 0.3,random_state = 1)\n",
    "rf.fit(x_train,y_train)\n",
    "prediction = rf.predict(x_test)\n",
    "\n",
    "print('With Random Forest accuracy is: ',rf.score(x_test,y_test)) # accuracy"
   ]
  },
  {
   "cell_type": "markdown",
   "metadata": {},
   "source": [
    "## Support Vector Classification"
   ]
  },
  {
   "cell_type": "code",
   "execution_count": 30,
   "metadata": {},
   "outputs": [],
   "source": [
    "#Scaling data\n",
    "from sklearn.preprocessing import StandardScaler\n",
    "from sklearn.model_selection import cross_val_score\n",
    "\n",
    "sc = StandardScaler()\n",
    "sc.fit(x_train)\n",
    "X_train_std = sc.transform(x_train)\n",
    "X_test_std = sc.transform(x_test)"
   ]
  },
  {
   "cell_type": "code",
   "execution_count": 31,
   "metadata": {},
   "outputs": [
    {
     "name": "stdout",
     "output_type": "stream",
     "text": [
      "The accuracy of the SVM classifier on training data is 0.93\n",
      "The accuracy of the SVM classifier on test data is 0.88\n"
     ]
    }
   ],
   "source": [
    "from sklearn.svm import SVC\n",
    "\n",
    "svm = SVC(kernel='rbf', random_state=0, gamma=.10, C=1.0)\n",
    "svm.fit(X_train_std, y_train)\n",
    "print('The accuracy of the SVM classifier on training data is {:.2f}'.format(svm.score(X_train_std, y_train)))\n",
    "print('The accuracy of the SVM classifier on test data is {:.2f}'.format(svm.score(X_test_std, y_test)))"
   ]
  },
  {
   "cell_type": "markdown",
   "metadata": {},
   "source": [
    "## XGBoost"
   ]
  },
  {
   "cell_type": "code",
   "execution_count": 32,
   "metadata": {},
   "outputs": [
    {
     "name": "stdout",
     "output_type": "stream",
     "text": [
      "The accuracy of the XGBoost classifier on test data is 0.91\n"
     ]
    },
    {
     "name": "stderr",
     "output_type": "stream",
     "text": [
      "C:\\Users\\Kunal\\Anaconda3\\lib\\site-packages\\sklearn\\preprocessing\\label.py:151: DeprecationWarning: The truth value of an empty array is ambiguous. Returning False, but in future this will result in an error. Use `array.size > 0` to check that an array is not empty.\n",
      "  if diff:\n"
     ]
    }
   ],
   "source": [
    "#Applying XGBoost\n",
    "import xgboost as xgb\n",
    "\n",
    "xgb_clf = xgb.XGBClassifier()\n",
    "xgb_clf = xgb_clf.fit(X_train_std, y_train)\n",
    "\n",
    "print('The accuracy of the XGBoost classifier on test data is {:.2f}'.format(xgb_clf.score(X_test_std, y_test)))"
   ]
  },
  {
   "cell_type": "markdown",
   "metadata": {},
   "source": [
    "## Importing Other Data and Creating Bollinger Columns"
   ]
  },
  {
   "cell_type": "code",
   "execution_count": 2,
   "metadata": {},
   "outputs": [],
   "source": [
    "df1 = pd.read_csv(\"MINDTREE.csv\", parse_dates=True, index_col=\"Date\")"
   ]
  },
  {
   "cell_type": "code",
   "execution_count": 3,
   "metadata": {},
   "outputs": [],
   "source": [
    "df1 = df1[['Close Price']]"
   ]
  },
  {
   "cell_type": "code",
   "execution_count": 4,
   "metadata": {},
   "outputs": [
    {
     "data": {
      "text/html": [
       "<div>\n",
       "<style scoped>\n",
       "    .dataframe tbody tr th:only-of-type {\n",
       "        vertical-align: middle;\n",
       "    }\n",
       "\n",
       "    .dataframe tbody tr th {\n",
       "        vertical-align: top;\n",
       "    }\n",
       "\n",
       "    .dataframe thead th {\n",
       "        text-align: right;\n",
       "    }\n",
       "</style>\n",
       "<table border=\"1\" class=\"dataframe\">\n",
       "  <thead>\n",
       "    <tr style=\"text-align: right;\">\n",
       "      <th></th>\n",
       "      <th>Close Price</th>\n",
       "    </tr>\n",
       "    <tr>\n",
       "      <th>Date</th>\n",
       "      <th></th>\n",
       "    </tr>\n",
       "  </thead>\n",
       "  <tbody>\n",
       "    <tr>\n",
       "      <th>2017-05-15</th>\n",
       "      <td>509.45</td>\n",
       "    </tr>\n",
       "    <tr>\n",
       "      <th>2017-05-16</th>\n",
       "      <td>511.30</td>\n",
       "    </tr>\n",
       "    <tr>\n",
       "      <th>2017-05-17</th>\n",
       "      <td>506.35</td>\n",
       "    </tr>\n",
       "  </tbody>\n",
       "</table>\n",
       "</div>"
      ],
      "text/plain": [
       "            Close Price\n",
       "Date                   \n",
       "2017-05-15       509.45\n",
       "2017-05-16       511.30\n",
       "2017-05-17       506.35"
      ]
     },
     "execution_count": 4,
     "metadata": {},
     "output_type": "execute_result"
    }
   ],
   "source": [
    "df1.head(3)"
   ]
  },
  {
   "cell_type": "code",
   "execution_count": 5,
   "metadata": {},
   "outputs": [],
   "source": [
    "# calculate Simple Moving Average with 20 days window\n",
    "sma = df1[\"Close Price\"].rolling(window=20).mean()\n",
    "rstd = df1[\"Close Price\"].rolling(window=20).std()"
   ]
  },
  {
   "cell_type": "code",
   "execution_count": 6,
   "metadata": {},
   "outputs": [],
   "source": [
    "sma = pd.DataFrame(data = sma)"
   ]
  },
  {
   "cell_type": "code",
   "execution_count": 7,
   "metadata": {},
   "outputs": [],
   "source": [
    "rstd = pd.DataFrame(data = rstd)"
   ]
  },
  {
   "cell_type": "code",
   "execution_count": 8,
   "metadata": {},
   "outputs": [],
   "source": [
    "upper_band = sma + 2 * rstd\n",
    "lower_band = sma - 2 * rstd\n",
    "upper_band.columns = ['upper']\n",
    "lower_band.columns = ['lower']\n",
    "\n",
    "df1 = pd.merge(pd.merge(df1,upper_band,on='Date'),lower_band,on='Date')"
   ]
  },
  {
   "cell_type": "code",
   "execution_count": 9,
   "metadata": {},
   "outputs": [],
   "source": [
    "sma.columns = ['middle']\n",
    "df1 = df1.merge(sma, on ='Date')"
   ]
  },
  {
   "cell_type": "code",
   "execution_count": 10,
   "metadata": {},
   "outputs": [],
   "source": [
    "df1.dropna(inplace=True)"
   ]
  },
  {
   "cell_type": "code",
   "execution_count": 11,
   "metadata": {},
   "outputs": [
    {
     "data": {
      "text/html": [
       "<div>\n",
       "<style scoped>\n",
       "    .dataframe tbody tr th:only-of-type {\n",
       "        vertical-align: middle;\n",
       "    }\n",
       "\n",
       "    .dataframe tbody tr th {\n",
       "        vertical-align: top;\n",
       "    }\n",
       "\n",
       "    .dataframe thead th {\n",
       "        text-align: right;\n",
       "    }\n",
       "</style>\n",
       "<table border=\"1\" class=\"dataframe\">\n",
       "  <thead>\n",
       "    <tr style=\"text-align: right;\">\n",
       "      <th></th>\n",
       "      <th>Close Price</th>\n",
       "      <th>upper</th>\n",
       "      <th>lower</th>\n",
       "      <th>middle</th>\n",
       "    </tr>\n",
       "    <tr>\n",
       "      <th>Date</th>\n",
       "      <th></th>\n",
       "      <th></th>\n",
       "      <th></th>\n",
       "      <th></th>\n",
       "    </tr>\n",
       "  </thead>\n",
       "  <tbody>\n",
       "    <tr>\n",
       "      <th>2017-06-09</th>\n",
       "      <td>538.75</td>\n",
       "      <td>565.662687</td>\n",
       "      <td>486.592313</td>\n",
       "      <td>526.1275</td>\n",
       "    </tr>\n",
       "    <tr>\n",
       "      <th>2017-06-12</th>\n",
       "      <td>539.80</td>\n",
       "      <td>566.813031</td>\n",
       "      <td>488.476969</td>\n",
       "      <td>527.6450</td>\n",
       "    </tr>\n",
       "    <tr>\n",
       "      <th>2017-06-13</th>\n",
       "      <td>531.80</td>\n",
       "      <td>567.103078</td>\n",
       "      <td>490.236922</td>\n",
       "      <td>528.6700</td>\n",
       "    </tr>\n",
       "  </tbody>\n",
       "</table>\n",
       "</div>"
      ],
      "text/plain": [
       "            Close Price       upper       lower    middle\n",
       "Date                                                     \n",
       "2017-06-09       538.75  565.662687  486.592313  526.1275\n",
       "2017-06-12       539.80  566.813031  488.476969  527.6450\n",
       "2017-06-13       531.80  567.103078  490.236922  528.6700"
      ]
     },
     "execution_count": 11,
     "metadata": {},
     "output_type": "execute_result"
    }
   ],
   "source": [
    "df1.head(3)"
   ]
  },
  {
   "cell_type": "code",
   "execution_count": 13,
   "metadata": {},
   "outputs": [],
   "source": [
    "def label_call(row):\n",
    "    if row['Close Price'] < row['lower']:\n",
    "        return 'Buy'\n",
    "    if row['lower'] < row['Close Price'] < row['middle']:\n",
    "        return 'Hold Buy/ Liquidate Short'\n",
    "    if row['middle'] < row['Close Price'] < row['upper']:\n",
    "        return 'Hold Short/ Liquidate Buy'\n",
    "    if row['Close Price'] > row['upper']:\n",
    "        return \"Short\""
   ]
  },
  {
   "cell_type": "code",
   "execution_count": 14,
   "metadata": {},
   "outputs": [],
   "source": [
    "df1['Call'] = df1.apply (lambda row: label_call(row), axis=1)"
   ]
  },
  {
   "cell_type": "code",
   "execution_count": 36,
   "metadata": {},
   "outputs": [
    {
     "data": {
      "text/html": [
       "<div>\n",
       "<style scoped>\n",
       "    .dataframe tbody tr th:only-of-type {\n",
       "        vertical-align: middle;\n",
       "    }\n",
       "\n",
       "    .dataframe tbody tr th {\n",
       "        vertical-align: top;\n",
       "    }\n",
       "\n",
       "    .dataframe thead th {\n",
       "        text-align: right;\n",
       "    }\n",
       "</style>\n",
       "<table border=\"1\" class=\"dataframe\">\n",
       "  <thead>\n",
       "    <tr style=\"text-align: right;\">\n",
       "      <th></th>\n",
       "      <th>Close Price</th>\n",
       "      <th>upper</th>\n",
       "      <th>lower</th>\n",
       "      <th>middle</th>\n",
       "      <th>Call</th>\n",
       "    </tr>\n",
       "    <tr>\n",
       "      <th>Date</th>\n",
       "      <th></th>\n",
       "      <th></th>\n",
       "      <th></th>\n",
       "      <th></th>\n",
       "      <th></th>\n",
       "    </tr>\n",
       "  </thead>\n",
       "  <tbody>\n",
       "    <tr>\n",
       "      <th>2017-06-09</th>\n",
       "      <td>538.75</td>\n",
       "      <td>565.662687</td>\n",
       "      <td>486.592313</td>\n",
       "      <td>526.1275</td>\n",
       "      <td>Hold Short/ Liquidate Buy</td>\n",
       "    </tr>\n",
       "    <tr>\n",
       "      <th>2017-06-12</th>\n",
       "      <td>539.80</td>\n",
       "      <td>566.813031</td>\n",
       "      <td>488.476969</td>\n",
       "      <td>527.6450</td>\n",
       "      <td>Hold Short/ Liquidate Buy</td>\n",
       "    </tr>\n",
       "    <tr>\n",
       "      <th>2017-06-13</th>\n",
       "      <td>531.80</td>\n",
       "      <td>567.103078</td>\n",
       "      <td>490.236922</td>\n",
       "      <td>528.6700</td>\n",
       "      <td>Hold Short/ Liquidate Buy</td>\n",
       "    </tr>\n",
       "  </tbody>\n",
       "</table>\n",
       "</div>"
      ],
      "text/plain": [
       "            Close Price       upper       lower    middle  \\\n",
       "Date                                                        \n",
       "2017-06-09       538.75  565.662687  486.592313  526.1275   \n",
       "2017-06-12       539.80  566.813031  488.476969  527.6450   \n",
       "2017-06-13       531.80  567.103078  490.236922  528.6700   \n",
       "\n",
       "                                 Call  \n",
       "Date                                   \n",
       "2017-06-09  Hold Short/ Liquidate Buy  \n",
       "2017-06-12  Hold Short/ Liquidate Buy  \n",
       "2017-06-13  Hold Short/ Liquidate Buy  "
      ]
     },
     "execution_count": 36,
     "metadata": {},
     "output_type": "execute_result"
    }
   ],
   "source": [
    "df1.head(3)"
   ]
  },
  {
   "cell_type": "code",
   "execution_count": 39,
   "metadata": {},
   "outputs": [],
   "source": [
    "x,y = df1.drop(['Call'],axis=1), df1['Call']"
   ]
  },
  {
   "cell_type": "markdown",
   "metadata": {},
   "source": [
    "### Checking Results Of Previous Models"
   ]
  },
  {
   "cell_type": "markdown",
   "metadata": {},
   "source": [
    "### NB"
   ]
  },
  {
   "cell_type": "code",
   "execution_count": 41,
   "metadata": {},
   "outputs": [
    {
     "name": "stdout",
     "output_type": "stream",
     "text": [
      "With Naive Bayes accuracy is:  0.3431578947368421\n"
     ]
    }
   ],
   "source": [
    "print('With Naive Bayes accuracy is: ',nb.score(x,y)) # accuracy"
   ]
  },
  {
   "cell_type": "markdown",
   "metadata": {},
   "source": [
    "### Random Forest"
   ]
  },
  {
   "cell_type": "code",
   "execution_count": 42,
   "metadata": {},
   "outputs": [
    {
     "name": "stdout",
     "output_type": "stream",
     "text": [
      "With Random Forest accuracy is:  0.3431578947368421\n"
     ]
    }
   ],
   "source": [
    "print('With Random Forest accuracy is: ',rf.score(x,y)) # accuracy"
   ]
  },
  {
   "cell_type": "markdown",
   "metadata": {},
   "source": [
    "### XGBoost"
   ]
  },
  {
   "cell_type": "code",
   "execution_count": 43,
   "metadata": {},
   "outputs": [],
   "source": [
    "X_test_std = sc.transform(x)"
   ]
  },
  {
   "cell_type": "code",
   "execution_count": 44,
   "metadata": {},
   "outputs": [
    {
     "name": "stdout",
     "output_type": "stream",
     "text": [
      "The accuracy of the XGBoost classifier on test data is 0.56\n"
     ]
    },
    {
     "name": "stderr",
     "output_type": "stream",
     "text": [
      "C:\\Users\\Kunal\\Anaconda3\\lib\\site-packages\\sklearn\\preprocessing\\label.py:151: DeprecationWarning: The truth value of an empty array is ambiguous. Returning False, but in future this will result in an error. Use `array.size > 0` to check that an array is not empty.\n",
      "  if diff:\n"
     ]
    }
   ],
   "source": [
    "print('The accuracy of the XGBoost classifier on test data is {:.2f}'.format(xgb_clf.score(X_test_std, y)))"
   ]
  },
  {
   "cell_type": "markdown",
   "metadata": {},
   "source": [
    "# 4.2"
   ]
  },
  {
   "cell_type": "code",
   "execution_count": 87,
   "metadata": {},
   "outputs": [],
   "source": [
    "dft = pd.read_csv('PNB.csv')"
   ]
  },
  {
   "cell_type": "code",
   "execution_count": 88,
   "metadata": {},
   "outputs": [
    {
     "data": {
      "text/html": [
       "<div>\n",
       "<style scoped>\n",
       "    .dataframe tbody tr th:only-of-type {\n",
       "        vertical-align: middle;\n",
       "    }\n",
       "\n",
       "    .dataframe tbody tr th {\n",
       "        vertical-align: top;\n",
       "    }\n",
       "\n",
       "    .dataframe thead th {\n",
       "        text-align: right;\n",
       "    }\n",
       "</style>\n",
       "<table border=\"1\" class=\"dataframe\">\n",
       "  <thead>\n",
       "    <tr style=\"text-align: right;\">\n",
       "      <th></th>\n",
       "      <th>Symbol</th>\n",
       "      <th>Series</th>\n",
       "      <th>Date</th>\n",
       "      <th>Prev Close</th>\n",
       "      <th>Open Price</th>\n",
       "      <th>High Price</th>\n",
       "      <th>Low Price</th>\n",
       "      <th>Last Price</th>\n",
       "      <th>Close Price</th>\n",
       "      <th>Average Price</th>\n",
       "      <th>Total Traded Quantity</th>\n",
       "      <th>Turnover</th>\n",
       "      <th>No. of Trades</th>\n",
       "      <th>Deliverable Qty</th>\n",
       "      <th>% Dly Qt to Traded Qty</th>\n",
       "    </tr>\n",
       "  </thead>\n",
       "  <tbody>\n",
       "    <tr>\n",
       "      <th>0</th>\n",
       "      <td>PNB</td>\n",
       "      <td>EQ</td>\n",
       "      <td>15-May-2017</td>\n",
       "      <td>169.15</td>\n",
       "      <td>169.95</td>\n",
       "      <td>171.3</td>\n",
       "      <td>166.2</td>\n",
       "      <td>166.85</td>\n",
       "      <td>166.80</td>\n",
       "      <td>168.94</td>\n",
       "      <td>7476618</td>\n",
       "      <td>1.263123e+09</td>\n",
       "      <td>41641</td>\n",
       "      <td>1352589</td>\n",
       "      <td>18.09</td>\n",
       "    </tr>\n",
       "    <tr>\n",
       "      <th>1</th>\n",
       "      <td>PNB</td>\n",
       "      <td>EQ</td>\n",
       "      <td>16-May-2017</td>\n",
       "      <td>166.80</td>\n",
       "      <td>167.35</td>\n",
       "      <td>178.0</td>\n",
       "      <td>164.8</td>\n",
       "      <td>173.20</td>\n",
       "      <td>174.15</td>\n",
       "      <td>173.13</td>\n",
       "      <td>51532461</td>\n",
       "      <td>8.921904e+09</td>\n",
       "      <td>254027</td>\n",
       "      <td>5804867</td>\n",
       "      <td>11.26</td>\n",
       "    </tr>\n",
       "    <tr>\n",
       "      <th>2</th>\n",
       "      <td>PNB</td>\n",
       "      <td>EQ</td>\n",
       "      <td>17-May-2017</td>\n",
       "      <td>174.15</td>\n",
       "      <td>173.00</td>\n",
       "      <td>173.1</td>\n",
       "      <td>164.3</td>\n",
       "      <td>164.80</td>\n",
       "      <td>165.05</td>\n",
       "      <td>167.27</td>\n",
       "      <td>26536944</td>\n",
       "      <td>4.438942e+09</td>\n",
       "      <td>116512</td>\n",
       "      <td>7037498</td>\n",
       "      <td>26.52</td>\n",
       "    </tr>\n",
       "  </tbody>\n",
       "</table>\n",
       "</div>"
      ],
      "text/plain": [
       "  Symbol Series         Date  Prev Close  Open Price  High Price  Low Price  \\\n",
       "0    PNB     EQ  15-May-2017      169.15      169.95       171.3      166.2   \n",
       "1    PNB     EQ  16-May-2017      166.80      167.35       178.0      164.8   \n",
       "2    PNB     EQ  17-May-2017      174.15      173.00       173.1      164.3   \n",
       "\n",
       "   Last Price  Close Price  Average Price  Total Traded Quantity  \\\n",
       "0      166.85       166.80         168.94                7476618   \n",
       "1      173.20       174.15         173.13               51532461   \n",
       "2      164.80       165.05         167.27               26536944   \n",
       "\n",
       "       Turnover  No. of Trades  Deliverable Qty  % Dly Qt to Traded Qty  \n",
       "0  1.263123e+09          41641          1352589                   18.09  \n",
       "1  8.921904e+09         254027          5804867                   11.26  \n",
       "2  4.438942e+09         116512          7037498                   26.52  "
      ]
     },
     "execution_count": 88,
     "metadata": {},
     "output_type": "execute_result"
    }
   ],
   "source": [
    "dft.head(3)"
   ]
  },
  {
   "cell_type": "code",
   "execution_count": 89,
   "metadata": {},
   "outputs": [],
   "source": [
    "dft['Per_change_open_close'] = (dft['Open Price'] -dft['Close Price']/ dft['Open Price'])*100\n",
    "dft['Diif_High_low'] = (dft['High Price'] -dft['Low Price']/ dft['High Price'])*100\n",
    "dft['rollingmean_perc_change'] = dft[\"Day_Perc_Change\"] = dft[\"Close Price\"].pct_change().rolling(5).mean()\n",
    "dft['rollingstd_perc_change'] = dft[\"Day_Perc_Change\"] = dft[\"Close Price\"].pct_change().rolling(5).std()"
   ]
  },
  {
   "cell_type": "code",
   "execution_count": 90,
   "metadata": {},
   "outputs": [],
   "source": [
    "dft.loc[dft['Close Price'] > dft['Close Price'].shift(-1) , 'Action'] = float(1)\n",
    "dft.loc[dft['Close Price'] < dft['Close Price'].shift(-1) , 'Action'] = float(-1)"
   ]
  },
  {
   "cell_type": "code",
   "execution_count": 91,
   "metadata": {},
   "outputs": [
    {
     "data": {
      "text/plain": [
       "(494, 21)"
      ]
     },
     "execution_count": 91,
     "metadata": {},
     "output_type": "execute_result"
    }
   ],
   "source": [
    "dft.shape"
   ]
  },
  {
   "cell_type": "code",
   "execution_count": 92,
   "metadata": {},
   "outputs": [
    {
     "data": {
      "text/plain": [
       "Symbol                     0\n",
       "Series                     0\n",
       "Date                       0\n",
       "Prev Close                 0\n",
       "Open Price                 0\n",
       "High Price                 0\n",
       "Low Price                  0\n",
       "Last Price                 0\n",
       "Close Price                0\n",
       "Average Price              0\n",
       "Total Traded Quantity      0\n",
       "Turnover                   0\n",
       "No. of Trades              0\n",
       "Deliverable Qty            0\n",
       "% Dly Qt to Traded Qty     0\n",
       "Per_change_open_close      0\n",
       "Diif_High_low              0\n",
       "rollingmean_perc_change    5\n",
       "Day_Perc_Change            5\n",
       "rollingstd_perc_change     5\n",
       "Action                     6\n",
       "dtype: int64"
      ]
     },
     "execution_count": 92,
     "metadata": {},
     "output_type": "execute_result"
    }
   ],
   "source": [
    "dft.isnull().sum()"
   ]
  },
  {
   "cell_type": "code",
   "execution_count": 93,
   "metadata": {},
   "outputs": [],
   "source": [
    "dft.dropna(inplace=True)"
   ]
  },
  {
   "cell_type": "code",
   "execution_count": 94,
   "metadata": {},
   "outputs": [
    {
     "data": {
      "text/html": [
       "<div>\n",
       "<style scoped>\n",
       "    .dataframe tbody tr th:only-of-type {\n",
       "        vertical-align: middle;\n",
       "    }\n",
       "\n",
       "    .dataframe tbody tr th {\n",
       "        vertical-align: top;\n",
       "    }\n",
       "\n",
       "    .dataframe thead th {\n",
       "        text-align: right;\n",
       "    }\n",
       "</style>\n",
       "<table border=\"1\" class=\"dataframe\">\n",
       "  <thead>\n",
       "    <tr style=\"text-align: right;\">\n",
       "      <th></th>\n",
       "      <th>Symbol</th>\n",
       "      <th>Series</th>\n",
       "      <th>Date</th>\n",
       "      <th>Prev Close</th>\n",
       "      <th>Open Price</th>\n",
       "      <th>High Price</th>\n",
       "      <th>Low Price</th>\n",
       "      <th>Last Price</th>\n",
       "      <th>Close Price</th>\n",
       "      <th>Average Price</th>\n",
       "      <th>...</th>\n",
       "      <th>Turnover</th>\n",
       "      <th>No. of Trades</th>\n",
       "      <th>Deliverable Qty</th>\n",
       "      <th>% Dly Qt to Traded Qty</th>\n",
       "      <th>Per_change_open_close</th>\n",
       "      <th>Diif_High_low</th>\n",
       "      <th>rollingmean_perc_change</th>\n",
       "      <th>Day_Perc_Change</th>\n",
       "      <th>rollingstd_perc_change</th>\n",
       "      <th>Action</th>\n",
       "    </tr>\n",
       "  </thead>\n",
       "  <tbody>\n",
       "    <tr>\n",
       "      <th>5</th>\n",
       "      <td>PNB</td>\n",
       "      <td>EQ</td>\n",
       "      <td>22-May-2017</td>\n",
       "      <td>155.20</td>\n",
       "      <td>157.50</td>\n",
       "      <td>158.00</td>\n",
       "      <td>150.25</td>\n",
       "      <td>151.05</td>\n",
       "      <td>150.95</td>\n",
       "      <td>153.77</td>\n",
       "      <td>...</td>\n",
       "      <td>1.823359e+09</td>\n",
       "      <td>61559</td>\n",
       "      <td>1874308</td>\n",
       "      <td>15.81</td>\n",
       "      <td>15654.158730</td>\n",
       "      <td>15704.905063</td>\n",
       "      <td>-0.019216</td>\n",
       "      <td>0.037364</td>\n",
       "      <td>0.037364</td>\n",
       "      <td>1.0</td>\n",
       "    </tr>\n",
       "    <tr>\n",
       "      <th>6</th>\n",
       "      <td>PNB</td>\n",
       "      <td>EQ</td>\n",
       "      <td>23-May-2017</td>\n",
       "      <td>150.95</td>\n",
       "      <td>151.95</td>\n",
       "      <td>154.35</td>\n",
       "      <td>145.55</td>\n",
       "      <td>149.10</td>\n",
       "      <td>149.75</td>\n",
       "      <td>150.19</td>\n",
       "      <td>...</td>\n",
       "      <td>2.730135e+09</td>\n",
       "      <td>84779</td>\n",
       "      <td>2318975</td>\n",
       "      <td>12.76</td>\n",
       "      <td>15096.447845</td>\n",
       "      <td>15340.701328</td>\n",
       "      <td>-0.029619</td>\n",
       "      <td>0.017071</td>\n",
       "      <td>0.017071</td>\n",
       "      <td>1.0</td>\n",
       "    </tr>\n",
       "    <tr>\n",
       "      <th>7</th>\n",
       "      <td>PNB</td>\n",
       "      <td>EQ</td>\n",
       "      <td>24-May-2017</td>\n",
       "      <td>149.75</td>\n",
       "      <td>149.70</td>\n",
       "      <td>152.35</td>\n",
       "      <td>146.50</td>\n",
       "      <td>147.30</td>\n",
       "      <td>147.45</td>\n",
       "      <td>149.16</td>\n",
       "      <td>...</td>\n",
       "      <td>1.876156e+09</td>\n",
       "      <td>63143</td>\n",
       "      <td>1093155</td>\n",
       "      <td>8.69</td>\n",
       "      <td>14871.503006</td>\n",
       "      <td>15138.839842</td>\n",
       "      <td>-0.022240</td>\n",
       "      <td>0.012087</td>\n",
       "      <td>0.012087</td>\n",
       "      <td>-1.0</td>\n",
       "    </tr>\n",
       "  </tbody>\n",
       "</table>\n",
       "<p>3 rows × 21 columns</p>\n",
       "</div>"
      ],
      "text/plain": [
       "  Symbol Series         Date  Prev Close  Open Price  High Price  Low Price  \\\n",
       "5    PNB     EQ  22-May-2017      155.20      157.50      158.00     150.25   \n",
       "6    PNB     EQ  23-May-2017      150.95      151.95      154.35     145.55   \n",
       "7    PNB     EQ  24-May-2017      149.75      149.70      152.35     146.50   \n",
       "\n",
       "   Last Price  Close Price  Average Price   ...        Turnover  \\\n",
       "5      151.05       150.95         153.77   ...    1.823359e+09   \n",
       "6      149.10       149.75         150.19   ...    2.730135e+09   \n",
       "7      147.30       147.45         149.16   ...    1.876156e+09   \n",
       "\n",
       "   No. of Trades  Deliverable Qty  % Dly Qt to Traded Qty  \\\n",
       "5          61559          1874308                   15.81   \n",
       "6          84779          2318975                   12.76   \n",
       "7          63143          1093155                    8.69   \n",
       "\n",
       "   Per_change_open_close  Diif_High_low  rollingmean_perc_change  \\\n",
       "5           15654.158730   15704.905063                -0.019216   \n",
       "6           15096.447845   15340.701328                -0.029619   \n",
       "7           14871.503006   15138.839842                -0.022240   \n",
       "\n",
       "   Day_Perc_Change  rollingstd_perc_change  Action  \n",
       "5         0.037364                0.037364     1.0  \n",
       "6         0.017071                0.017071     1.0  \n",
       "7         0.012087                0.012087    -1.0  \n",
       "\n",
       "[3 rows x 21 columns]"
      ]
     },
     "execution_count": 94,
     "metadata": {},
     "output_type": "execute_result"
    }
   ],
   "source": [
    "dft.head(3)"
   ]
  },
  {
   "cell_type": "code",
   "execution_count": 95,
   "metadata": {},
   "outputs": [],
   "source": [
    "dft1 = dft[['Per_change_open_close', 'Diif_High_low', 'rollingmean_perc_change', 'rollingstd_perc_change','Action']]"
   ]
  },
  {
   "cell_type": "code",
   "execution_count": 96,
   "metadata": {},
   "outputs": [
    {
     "data": {
      "text/html": [
       "<div>\n",
       "<style scoped>\n",
       "    .dataframe tbody tr th:only-of-type {\n",
       "        vertical-align: middle;\n",
       "    }\n",
       "\n",
       "    .dataframe tbody tr th {\n",
       "        vertical-align: top;\n",
       "    }\n",
       "\n",
       "    .dataframe thead th {\n",
       "        text-align: right;\n",
       "    }\n",
       "</style>\n",
       "<table border=\"1\" class=\"dataframe\">\n",
       "  <thead>\n",
       "    <tr style=\"text-align: right;\">\n",
       "      <th></th>\n",
       "      <th>Per_change_open_close</th>\n",
       "      <th>Diif_High_low</th>\n",
       "      <th>rollingmean_perc_change</th>\n",
       "      <th>rollingstd_perc_change</th>\n",
       "      <th>Action</th>\n",
       "    </tr>\n",
       "  </thead>\n",
       "  <tbody>\n",
       "    <tr>\n",
       "      <th>5</th>\n",
       "      <td>15654.158730</td>\n",
       "      <td>15704.905063</td>\n",
       "      <td>-0.019216</td>\n",
       "      <td>0.037364</td>\n",
       "      <td>1.0</td>\n",
       "    </tr>\n",
       "    <tr>\n",
       "      <th>6</th>\n",
       "      <td>15096.447845</td>\n",
       "      <td>15340.701328</td>\n",
       "      <td>-0.029619</td>\n",
       "      <td>0.017071</td>\n",
       "      <td>1.0</td>\n",
       "    </tr>\n",
       "    <tr>\n",
       "      <th>7</th>\n",
       "      <td>14871.503006</td>\n",
       "      <td>15138.839842</td>\n",
       "      <td>-0.022240</td>\n",
       "      <td>0.012087</td>\n",
       "      <td>-1.0</td>\n",
       "    </tr>\n",
       "  </tbody>\n",
       "</table>\n",
       "</div>"
      ],
      "text/plain": [
       "   Per_change_open_close  Diif_High_low  rollingmean_perc_change  \\\n",
       "5           15654.158730   15704.905063                -0.019216   \n",
       "6           15096.447845   15340.701328                -0.029619   \n",
       "7           14871.503006   15138.839842                -0.022240   \n",
       "\n",
       "   rollingstd_perc_change  Action  \n",
       "5                0.037364     1.0  \n",
       "6                0.017071     1.0  \n",
       "7                0.012087    -1.0  "
      ]
     },
     "execution_count": 96,
     "metadata": {},
     "output_type": "execute_result"
    }
   ],
   "source": [
    "dft1.head(3)"
   ]
  },
  {
   "cell_type": "code",
   "execution_count": 97,
   "metadata": {},
   "outputs": [
    {
     "name": "stdout",
     "output_type": "stream",
     "text": [
      "With Random Forest accuracy is:  0.5310344827586206\n"
     ]
    }
   ],
   "source": [
    "rf = RandomForestClassifier()\n",
    "x,y = dft1.drop(['Action'],axis=1), dft1['Action']\n",
    "x_train,x_test,y_train,y_test = train_test_split(x,y,test_size = 0.3,random_state = 1)\n",
    "rf.fit(x_train,y_train)\n",
    "prediction = rf.predict(x_test)\n",
    "\n",
    "print('With Random Forest accuracy is: ',rf.score(x_test,y_test)) # accuracy"
   ]
  },
  {
   "cell_type": "code",
   "execution_count": 99,
   "metadata": {},
   "outputs": [],
   "source": [
    "dft['Cumulative'] = ((dft['Close Price'].pct_change() +1 ).cumprod() -1)* 100"
   ]
  },
  {
   "cell_type": "code",
   "execution_count": 101,
   "metadata": {},
   "outputs": [
    {
     "data": {
      "text/plain": [
       "Text(0,0.5,'Cumulative Return')"
      ]
     },
     "execution_count": 101,
     "metadata": {},
     "output_type": "execute_result"
    },
    {
     "data": {
      "image/png": "[encoded data removed]",
      "text/plain": [
       "<Figure size 1440x936 with 1 Axes>"
      ]
     },
     "metadata": {
      "needs_background": "light"
     },
     "output_type": "display_data"
    }
   ],
   "source": [
    "fig_size = plt.rcParams['figure.figsize']\n",
    "fig_size[0] = 20\n",
    "fig_size[1] = 13\n",
    "plt.rcParams['figure.figsize'] = fig_size\n",
    "plt.plot(dft['Cumulative'], color = 'red')\n",
    "plt.ylabel('Cumulative Return')"
   ]
  },
  {
   "cell_type": "code",
   "execution_count": null,
   "metadata": {},
   "outputs": [],
   "source": []
  }
 ],
 "metadata": {
  "kernelspec": {
   "display_name": "Python 3",
   "language": "python",
   "name": "python3"
  },
  "language_info": {
   "codemirror_mode": {
    "name": "ipython",
    "version": 3
   },
   "file_extension": ".py",
   "mimetype": "text/x-python",
   "name": "python",
   "nbconvert_exporter": "python",
   "pygments_lexer": "ipython3",
   "version": "3.7.0"
  }
 },
 "nbformat": 4,
 "nbformat_minor": 2
}
