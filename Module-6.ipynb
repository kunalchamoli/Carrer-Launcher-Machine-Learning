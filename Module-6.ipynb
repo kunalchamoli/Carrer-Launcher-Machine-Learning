{
 "cells": [
  {
   "cell_type": "code",
   "execution_count": 1,
   "metadata": {},
   "outputs": [],
   "source": [
    "import pandas as pd\n",
    "import numpy as np\n",
    "import matplotlib.pyplot as plt\n",
    "import seaborn as sns\n",
    "import warnings\n",
    "warnings.filterwarnings('ignore')\n",
    "import glob\n",
    "import os"
   ]
  },
  {
   "cell_type": "markdown",
   "metadata": {},
   "source": [
    "## 6.1"
   ]
  },
  {
   "cell_type": "code",
   "execution_count": 2,
   "metadata": {},
   "outputs": [],
   "source": [
    "path ='C:/Users/Kunal/Documents/Summers/Intern/Large_Cap'\n",
    "all_files = glob.glob(os.path.join(path, '*.csv'))\n",
    "dfl = pd.DataFrame()\n",
    "\n",
    "for csv in all_files:\n",
    "    df = pd.read_csv(csv)\n",
    "    dfl[os.path.basename(csv).split('.')[0]] = df['Close Price']"
   ]
  },
  {
   "cell_type": "code",
   "execution_count": 3,
   "metadata": {},
   "outputs": [],
   "source": [
    "dfl = dfl.iloc[:, :-10 ]"
   ]
  },
  {
   "cell_type": "code",
   "execution_count": 4,
   "metadata": {},
   "outputs": [
    {
     "data": {
      "text/html": [
       "<div>\n",
       "<style scoped>\n",
       "    .dataframe tbody tr th:only-of-type {\n",
       "        vertical-align: middle;\n",
       "    }\n",
       "\n",
       "    .dataframe tbody tr th {\n",
       "        vertical-align: top;\n",
       "    }\n",
       "\n",
       "    .dataframe thead th {\n",
       "        text-align: right;\n",
       "    }\n",
       "</style>\n",
       "<table border=\"1\" class=\"dataframe\">\n",
       "  <thead>\n",
       "    <tr style=\"text-align: right;\">\n",
       "      <th></th>\n",
       "      <th>ADANIPORTS</th>\n",
       "      <th>ASIANPAINT</th>\n",
       "      <th>AXISBANK</th>\n",
       "      <th>BAJFINANCE</th>\n",
       "      <th>BPCL</th>\n",
       "      <th>CIPLA</th>\n",
       "      <th>DRREDDY</th>\n",
       "      <th>EICHERMOT</th>\n",
       "      <th>GAIL</th>\n",
       "      <th>HDFC</th>\n",
       "      <th>HDFCBANK</th>\n",
       "      <th>HEROMOTOCO</th>\n",
       "      <th>HINDALCO</th>\n",
       "      <th>HINDUNILVR</th>\n",
       "      <th>INFRATEL</th>\n",
       "    </tr>\n",
       "  </thead>\n",
       "  <tbody>\n",
       "    <tr>\n",
       "      <th>0</th>\n",
       "      <td>356.20</td>\n",
       "      <td>1148.05</td>\n",
       "      <td>500.1</td>\n",
       "      <td>1332.95</td>\n",
       "      <td>727.85</td>\n",
       "      <td>569.00</td>\n",
       "      <td>2675.8</td>\n",
       "      <td>28930.60</td>\n",
       "      <td>414.0</td>\n",
       "      <td>1559.50</td>\n",
       "      <td>1553.40</td>\n",
       "      <td>3515.45</td>\n",
       "      <td>198.45</td>\n",
       "      <td>983.25</td>\n",
       "      <td>371.05</td>\n",
       "    </tr>\n",
       "    <tr>\n",
       "      <th>1</th>\n",
       "      <td>354.50</td>\n",
       "      <td>1142.85</td>\n",
       "      <td>501.5</td>\n",
       "      <td>1347.75</td>\n",
       "      <td>733.30</td>\n",
       "      <td>565.60</td>\n",
       "      <td>2724.1</td>\n",
       "      <td>29362.50</td>\n",
       "      <td>411.4</td>\n",
       "      <td>205.00</td>\n",
       "      <td>1583.00</td>\n",
       "      <td>3619.40</td>\n",
       "      <td>196.50</td>\n",
       "      <td>1000.40</td>\n",
       "      <td>376.55</td>\n",
       "    </tr>\n",
       "    <tr>\n",
       "      <th>2</th>\n",
       "      <td>348.55</td>\n",
       "      <td>1154.95</td>\n",
       "      <td>502.8</td>\n",
       "      <td>1324.80</td>\n",
       "      <td>727.45</td>\n",
       "      <td>562.35</td>\n",
       "      <td>2736.9</td>\n",
       "      <td>29093.55</td>\n",
       "      <td>408.3</td>\n",
       "      <td>1566.55</td>\n",
       "      <td>1559.65</td>\n",
       "      <td>3645.95</td>\n",
       "      <td>198.85</td>\n",
       "      <td>1009.40</td>\n",
       "      <td>389.90</td>\n",
       "    </tr>\n",
       "  </tbody>\n",
       "</table>\n",
       "</div>"
      ],
      "text/plain": [
       "   ADANIPORTS  ASIANPAINT  AXISBANK  BAJFINANCE    BPCL   CIPLA  DRREDDY  \\\n",
       "0      356.20     1148.05     500.1     1332.95  727.85  569.00   2675.8   \n",
       "1      354.50     1142.85     501.5     1347.75  733.30  565.60   2724.1   \n",
       "2      348.55     1154.95     502.8     1324.80  727.45  562.35   2736.9   \n",
       "\n",
       "   EICHERMOT   GAIL     HDFC  HDFCBANK  HEROMOTOCO  HINDALCO  HINDUNILVR  \\\n",
       "0   28930.60  414.0  1559.50   1553.40     3515.45    198.45      983.25   \n",
       "1   29362.50  411.4   205.00   1583.00     3619.40    196.50     1000.40   \n",
       "2   29093.55  408.3  1566.55   1559.65     3645.95    198.85     1009.40   \n",
       "\n",
       "   INFRATEL  \n",
       "0    371.05  \n",
       "1    376.55  \n",
       "2    389.90  "
      ]
     },
     "execution_count": 4,
     "metadata": {},
     "output_type": "execute_result"
    }
   ],
   "source": [
    "dfl.head(3)"
   ]
  },
  {
   "cell_type": "code",
   "execution_count": 5,
   "metadata": {},
   "outputs": [],
   "source": [
    "path ='C:/Users/Kunal/Documents/Summers/Intern/Small_Cap'\n",
    "all_files = glob.glob(os.path.join(path, '*.csv'))\n",
    "dfs = pd.DataFrame()\n",
    "\n",
    "for csv in all_files:\n",
    "    df = pd.read_csv(csv)\n",
    "    dfs[os.path.basename(csv).split('.')[0]] = df['Close Price']"
   ]
  },
  {
   "cell_type": "code",
   "execution_count": 6,
   "metadata": {},
   "outputs": [],
   "source": [
    "dfs = dfs.iloc[:, :-10 ]"
   ]
  },
  {
   "cell_type": "code",
   "execution_count": 7,
   "metadata": {},
   "outputs": [
    {
     "data": {
      "text/html": [
       "<div>\n",
       "<style scoped>\n",
       "    .dataframe tbody tr th:only-of-type {\n",
       "        vertical-align: middle;\n",
       "    }\n",
       "\n",
       "    .dataframe tbody tr th {\n",
       "        vertical-align: top;\n",
       "    }\n",
       "\n",
       "    .dataframe thead th {\n",
       "        text-align: right;\n",
       "    }\n",
       "</style>\n",
       "<table border=\"1\" class=\"dataframe\">\n",
       "  <thead>\n",
       "    <tr style=\"text-align: right;\">\n",
       "      <th></th>\n",
       "      <th>ASHOKA</th>\n",
       "      <th>BAJAJELEC</th>\n",
       "      <th>BOMDYEING</th>\n",
       "      <th>CENTURYPLY</th>\n",
       "      <th>FORTIS</th>\n",
       "      <th>GUJALKALI</th>\n",
       "      <th>IDFC</th>\n",
       "      <th>IRCON</th>\n",
       "      <th>ITDC</th>\n",
       "      <th>JETAIRWAYS</th>\n",
       "      <th>JKLAKSHMI</th>\n",
       "      <th>LALPATHLAB</th>\n",
       "      <th>LAXMIMACH</th>\n",
       "      <th>LEMONTREE</th>\n",
       "      <th>LUXIND</th>\n",
       "    </tr>\n",
       "  </thead>\n",
       "  <tbody>\n",
       "    <tr>\n",
       "      <th>0</th>\n",
       "      <td>216.05</td>\n",
       "      <td>341.15</td>\n",
       "      <td>82.20</td>\n",
       "      <td>266.65</td>\n",
       "      <td>205.25</td>\n",
       "      <td>457.35</td>\n",
       "      <td>63.70</td>\n",
       "      <td>415.3</td>\n",
       "      <td>650.15</td>\n",
       "      <td>527.50</td>\n",
       "      <td>510.8</td>\n",
       "      <td>900.60</td>\n",
       "      <td>4614.05</td>\n",
       "      <td>71.65</td>\n",
       "      <td>819.6</td>\n",
       "    </tr>\n",
       "    <tr>\n",
       "      <th>1</th>\n",
       "      <td>214.90</td>\n",
       "      <td>347.00</td>\n",
       "      <td>83.40</td>\n",
       "      <td>266.10</td>\n",
       "      <td>207.90</td>\n",
       "      <td>455.25</td>\n",
       "      <td>64.25</td>\n",
       "      <td>427.0</td>\n",
       "      <td>636.70</td>\n",
       "      <td>534.15</td>\n",
       "      <td>527.5</td>\n",
       "      <td>910.95</td>\n",
       "      <td>4589.80</td>\n",
       "      <td>66.85</td>\n",
       "      <td>817.5</td>\n",
       "    </tr>\n",
       "    <tr>\n",
       "      <th>2</th>\n",
       "      <td>217.00</td>\n",
       "      <td>349.85</td>\n",
       "      <td>82.25</td>\n",
       "      <td>264.85</td>\n",
       "      <td>205.90</td>\n",
       "      <td>472.65</td>\n",
       "      <td>63.35</td>\n",
       "      <td>421.4</td>\n",
       "      <td>626.75</td>\n",
       "      <td>528.90</td>\n",
       "      <td>516.2</td>\n",
       "      <td>911.70</td>\n",
       "      <td>4637.25</td>\n",
       "      <td>66.95</td>\n",
       "      <td>819.8</td>\n",
       "    </tr>\n",
       "  </tbody>\n",
       "</table>\n",
       "</div>"
      ],
      "text/plain": [
       "   ASHOKA  BAJAJELEC  BOMDYEING  CENTURYPLY  FORTIS  GUJALKALI   IDFC  IRCON  \\\n",
       "0  216.05     341.15      82.20      266.65  205.25     457.35  63.70  415.3   \n",
       "1  214.90     347.00      83.40      266.10  207.90     455.25  64.25  427.0   \n",
       "2  217.00     349.85      82.25      264.85  205.90     472.65  63.35  421.4   \n",
       "\n",
       "     ITDC  JETAIRWAYS  JKLAKSHMI  LALPATHLAB  LAXMIMACH  LEMONTREE  LUXIND  \n",
       "0  650.15      527.50      510.8      900.60    4614.05      71.65   819.6  \n",
       "1  636.70      534.15      527.5      910.95    4589.80      66.85   817.5  \n",
       "2  626.75      528.90      516.2      911.70    4637.25      66.95   819.8  "
      ]
     },
     "execution_count": 7,
     "metadata": {},
     "output_type": "execute_result"
    }
   ],
   "source": [
    "dfs.head(3)"
   ]
  },
  {
   "cell_type": "code",
   "execution_count": 8,
   "metadata": {},
   "outputs": [],
   "source": [
    "path ='C:/Users/Kunal/Documents/Summers/Intern/Mid_Cap'\n",
    "all_files = glob.glob(os.path.join(path, '*.csv'))\n",
    "dfm = pd.DataFrame()\n",
    "\n",
    "for csv in all_files:\n",
    "    df1 = pd.read_csv(csv)\n",
    "    #df = df[df.Series == 'EQ']\n",
    "    dfm[os.path.basename(csv).split('.')[0]] = df1['Close Price']"
   ]
  },
  {
   "cell_type": "code",
   "execution_count": 9,
   "metadata": {},
   "outputs": [],
   "source": [
    "dfm = dfm.iloc[:, :-10 ]"
   ]
  },
  {
   "cell_type": "code",
   "execution_count": 10,
   "metadata": {},
   "outputs": [],
   "source": [
    "dfnew = pd.concat([dfl , dfs, dfm], axis =1)"
   ]
  },
  {
   "cell_type": "code",
   "execution_count": 11,
   "metadata": {},
   "outputs": [
    {
     "data": {
      "text/html": [
       "<div>\n",
       "<style scoped>\n",
       "    .dataframe tbody tr th:only-of-type {\n",
       "        vertical-align: middle;\n",
       "    }\n",
       "\n",
       "    .dataframe tbody tr th {\n",
       "        vertical-align: top;\n",
       "    }\n",
       "\n",
       "    .dataframe thead th {\n",
       "        text-align: right;\n",
       "    }\n",
       "</style>\n",
       "<table border=\"1\" class=\"dataframe\">\n",
       "  <thead>\n",
       "    <tr style=\"text-align: right;\">\n",
       "      <th></th>\n",
       "      <th>ADANIPORTS</th>\n",
       "      <th>ASIANPAINT</th>\n",
       "      <th>AXISBANK</th>\n",
       "      <th>BAJFINANCE</th>\n",
       "      <th>BPCL</th>\n",
       "      <th>CIPLA</th>\n",
       "      <th>DRREDDY</th>\n",
       "      <th>EICHERMOT</th>\n",
       "      <th>GAIL</th>\n",
       "      <th>HDFC</th>\n",
       "      <th>...</th>\n",
       "      <th>ITDC</th>\n",
       "      <th>JETAIRWAYS</th>\n",
       "      <th>JKLAKSHMI</th>\n",
       "      <th>LALPATHLAB</th>\n",
       "      <th>LAXMIMACH</th>\n",
       "      <th>LEMONTREE</th>\n",
       "      <th>LUXIND</th>\n",
       "      <th>ADANIPOWER</th>\n",
       "      <th>AJANTPHARM</th>\n",
       "      <th>AMARAJABAT</th>\n",
       "    </tr>\n",
       "  </thead>\n",
       "  <tbody>\n",
       "    <tr>\n",
       "      <th>0</th>\n",
       "      <td>356.2</td>\n",
       "      <td>1148.05</td>\n",
       "      <td>500.1</td>\n",
       "      <td>1332.95</td>\n",
       "      <td>727.85</td>\n",
       "      <td>569.0</td>\n",
       "      <td>2675.8</td>\n",
       "      <td>28930.6</td>\n",
       "      <td>414.0</td>\n",
       "      <td>1559.5</td>\n",
       "      <td>...</td>\n",
       "      <td>650.15</td>\n",
       "      <td>527.50</td>\n",
       "      <td>510.8</td>\n",
       "      <td>900.60</td>\n",
       "      <td>4614.05</td>\n",
       "      <td>71.65</td>\n",
       "      <td>819.6</td>\n",
       "      <td>30.25</td>\n",
       "      <td>1633.50</td>\n",
       "      <td>933.4</td>\n",
       "    </tr>\n",
       "    <tr>\n",
       "      <th>1</th>\n",
       "      <td>354.5</td>\n",
       "      <td>1142.85</td>\n",
       "      <td>501.5</td>\n",
       "      <td>1347.75</td>\n",
       "      <td>733.30</td>\n",
       "      <td>565.6</td>\n",
       "      <td>2724.1</td>\n",
       "      <td>29362.5</td>\n",
       "      <td>411.4</td>\n",
       "      <td>205.0</td>\n",
       "      <td>...</td>\n",
       "      <td>636.70</td>\n",
       "      <td>534.15</td>\n",
       "      <td>527.5</td>\n",
       "      <td>910.95</td>\n",
       "      <td>4589.80</td>\n",
       "      <td>66.85</td>\n",
       "      <td>817.5</td>\n",
       "      <td>32.85</td>\n",
       "      <td>1634.25</td>\n",
       "      <td>924.7</td>\n",
       "    </tr>\n",
       "  </tbody>\n",
       "</table>\n",
       "<p>2 rows × 33 columns</p>\n",
       "</div>"
      ],
      "text/plain": [
       "   ADANIPORTS  ASIANPAINT  AXISBANK  BAJFINANCE    BPCL  CIPLA  DRREDDY  \\\n",
       "0       356.2     1148.05     500.1     1332.95  727.85  569.0   2675.8   \n",
       "1       354.5     1142.85     501.5     1347.75  733.30  565.6   2724.1   \n",
       "\n",
       "   EICHERMOT   GAIL    HDFC     ...        ITDC  JETAIRWAYS  JKLAKSHMI  \\\n",
       "0    28930.6  414.0  1559.5     ...      650.15      527.50      510.8   \n",
       "1    29362.5  411.4   205.0     ...      636.70      534.15      527.5   \n",
       "\n",
       "   LALPATHLAB  LAXMIMACH  LEMONTREE  LUXIND  ADANIPOWER  AJANTPHARM  \\\n",
       "0      900.60    4614.05      71.65   819.6       30.25     1633.50   \n",
       "1      910.95    4589.80      66.85   817.5       32.85     1634.25   \n",
       "\n",
       "   AMARAJABAT  \n",
       "0       933.4  \n",
       "1       924.7  \n",
       "\n",
       "[2 rows x 33 columns]"
      ]
     },
     "execution_count": 11,
     "metadata": {},
     "output_type": "execute_result"
    }
   ],
   "source": [
    "dfnew.head(2)"
   ]
  },
  {
   "cell_type": "markdown",
   "metadata": {},
   "source": [
    "## 6.2"
   ]
  },
  {
   "cell_type": "code",
   "execution_count": 22,
   "metadata": {},
   "outputs": [],
   "source": [
    "from math import *\n",
    "from sklearn.cluster import KMeans\n",
    "from matplotlib import pyplot as plt\n",
    "from scipy.cluster.vq import kmeans,vq\n",
    "from pylab import plot,show, legend"
   ]
  },
  {
   "cell_type": "code",
   "execution_count": 14,
   "metadata": {},
   "outputs": [],
   "source": [
    "returns = dfnew.pct_change().mean() * 252\n",
    "returns = pd.DataFrame(returns)\n",
    "returns.columns = ['Returns']\n",
    "returns['Volatility'] = dfnew.pct_change().std() * sqrt(252)"
   ]
  },
  {
   "cell_type": "code",
   "execution_count": 15,
   "metadata": {},
   "outputs": [
    {
     "data": {
      "text/html": [
       "<div>\n",
       "<style scoped>\n",
       "    .dataframe tbody tr th:only-of-type {\n",
       "        vertical-align: middle;\n",
       "    }\n",
       "\n",
       "    .dataframe tbody tr th {\n",
       "        vertical-align: top;\n",
       "    }\n",
       "\n",
       "    .dataframe thead th {\n",
       "        text-align: right;\n",
       "    }\n",
       "</style>\n",
       "<table border=\"1\" class=\"dataframe\">\n",
       "  <thead>\n",
       "    <tr style=\"text-align: right;\">\n",
       "      <th></th>\n",
       "      <th>Returns</th>\n",
       "      <th>Volatility</th>\n",
       "    </tr>\n",
       "  </thead>\n",
       "  <tbody>\n",
       "    <tr>\n",
       "      <th>ADANIPORTS</th>\n",
       "      <td>0.060376</td>\n",
       "      <td>0.309436</td>\n",
       "    </tr>\n",
       "    <tr>\n",
       "      <th>ASIANPAINT</th>\n",
       "      <td>0.097791</td>\n",
       "      <td>0.209249</td>\n",
       "    </tr>\n",
       "    <tr>\n",
       "      <th>AXISBANK</th>\n",
       "      <td>0.232722</td>\n",
       "      <td>0.277636</td>\n",
       "    </tr>\n",
       "  </tbody>\n",
       "</table>\n",
       "</div>"
      ],
      "text/plain": [
       "             Returns  Volatility\n",
       "ADANIPORTS  0.060376    0.309436\n",
       "ASIANPAINT  0.097791    0.209249\n",
       "AXISBANK    0.232722    0.277636"
      ]
     },
     "execution_count": 15,
     "metadata": {},
     "output_type": "execute_result"
    }
   ],
   "source": [
    "returns.head(3)"
   ]
  },
  {
   "cell_type": "markdown",
   "metadata": {},
   "source": [
    "## 6.3"
   ]
  },
  {
   "cell_type": "code",
   "execution_count": 16,
   "metadata": {},
   "outputs": [
    {
     "data": {
      "text/plain": [
       "Text(0.5,1,'Elbow curve')"
      ]
     },
     "execution_count": 16,
     "metadata": {},
     "output_type": "execute_result"
    },
    {
     "data": {
      "image/png": "[encoded data removed]",
      "text/plain": [
       "<Figure size 1080x360 with 1 Axes>"
      ]
     },
     "metadata": {
      "needs_background": "light"
     },
     "output_type": "display_data"
    }
   ],
   "source": [
    "data = np.asarray([np.asarray(returns['Returns']),np.asarray(returns['Volatility'])]).T\n",
    "X = data\n",
    "distorsions = []\n",
    "for k in range(2, 20):\n",
    "    k_means = KMeans(n_clusters=k)\n",
    "    k_means.fit(X)\n",
    "    distorsions.append(k_means.inertia_)\n",
    "fig = plt.figure(figsize=(15, 5))\n",
    "plt.plot(range(2, 20), distorsions)\n",
    "plt.grid(True)\n",
    "plt.title('Elbow curve')"
   ]
  },
  {
   "cell_type": "code",
   "execution_count": 17,
   "metadata": {},
   "outputs": [
    {
     "data": {
      "image/png": "[encoded data removed]",
      "text/plain": [
       "<Figure size 432x288 with 1 Axes>"
      ]
     },
     "metadata": {
      "needs_background": "light"
     },
     "output_type": "display_data"
    }
   ],
   "source": [
    "# computing K-Means with K = 5 (5 clusters)\n",
    "centroids,_ = kmeans(data,3)\n",
    "# assign each sample to a cluster\n",
    "idx,_ = vq(data,centroids)\n",
    "# some plotting using numpy's logical indexing\n",
    "plot(data[idx==0,0],data[idx==0,1],'ob',\n",
    "     data[idx==1,0],data[idx==1,1],'oy',\n",
    "     data[idx==2,0],data[idx==2,1],'or',\n",
    "     data[idx==3,0],data[idx==3,1],'og',\n",
    "     data[idx==4,0],data[idx==4,1],'om')\n",
    "plot(centroids[:,0],centroids[:,1],'sg',markersize=8)\n",
    "show()"
   ]
  },
  {
   "cell_type": "code",
   "execution_count": 18,
   "metadata": {},
   "outputs": [
    {
     "name": "stdout",
     "output_type": "stream",
     "text": [
      "Returns       HDFC\n",
      "Volatility    HDFC\n",
      "dtype: object\n"
     ]
    }
   ],
   "source": [
    "print(returns.idxmax())"
   ]
  },
  {
   "cell_type": "code",
   "execution_count": 19,
   "metadata": {},
   "outputs": [],
   "source": [
    "returns.drop('HDFC',inplace=True)\n",
    "#recreate data to feed into the algorithm\n",
    "data = np.asarray([np.asarray(returns['Returns']),np.asarray(returns['Volatility'])]).T"
   ]
  },
  {
   "cell_type": "code",
   "execution_count": 23,
   "metadata": {},
   "outputs": [
    {
     "name": "stderr",
     "output_type": "stream",
     "text": [
      "No handles with labels found to put in legend.\n"
     ]
    },
    {
     "data": {
      "image/png": "[encoded data removed]",
      "text/plain": [
       "<Figure size 432x288 with 1 Axes>"
      ]
     },
     "metadata": {
      "needs_background": "light"
     },
     "output_type": "display_data"
    }
   ],
   "source": [
    "# computing K-Means with K = 5 (5 clusters)\n",
    "centroids,_ = kmeans(data,3)\n",
    "# assign each sample to a cluster\n",
    "idx,_ = vq(data,centroids)\n",
    "# some plotting using numpy's logical indexing\n",
    "plot(data[idx==0,0],data[idx==0,1],'ob',\n",
    "     data[idx==1,0],data[idx==1,1],'oy',\n",
    "     data[idx==2,0],data[idx==2,1],'or',\n",
    "     data[idx==3,0],data[idx==3,1],'og',\n",
    "     data[idx==4,0],data[idx==4,1],'om')\n",
    "plot(centroids[:,0],centroids[:,1],'sg',markersize=8)\n",
    "#legend(loc= 'upper right')\n",
    "show()"
   ]
  },
  {
   "cell_type": "code",
   "execution_count": 21,
   "metadata": {},
   "outputs": [
    {
     "name": "stdout",
     "output_type": "stream",
     "text": [
      "('ADANIPORTS', 1)\n",
      "('ASIANPAINT', 1)\n",
      "('AXISBANK', 2)\n",
      "('BAJFINANCE', 2)\n",
      "('BPCL', 0)\n",
      "('CIPLA', 1)\n",
      "('DRREDDY', 1)\n",
      "('EICHERMOT', 0)\n",
      "('GAIL', 1)\n",
      "('HDFCBANK', 1)\n",
      "('HEROMOTOCO', 0)\n",
      "('HINDALCO', 1)\n",
      "('HINDUNILVR', 2)\n",
      "('INFRATEL', 0)\n",
      "('ASHOKA', 0)\n",
      "('BAJAJELEC', 2)\n",
      "('BOMDYEING', 2)\n",
      "('CENTURYPLY', 0)\n",
      "('FORTIS', 0)\n",
      "('GUJALKALI', 1)\n",
      "('IDFC', 0)\n",
      "('IRCON', 1)\n",
      "('ITDC', 0)\n",
      "('JETAIRWAYS', 0)\n",
      "('JKLAKSHMI', 0)\n",
      "('LALPATHLAB', 1)\n",
      "('LAXMIMACH', 1)\n",
      "('LEMONTREE', 1)\n",
      "('LUXIND', 2)\n",
      "('ADANIPOWER', 2)\n",
      "('AJANTPHARM', 0)\n",
      "('AMARAJABAT', 0)\n"
     ]
    }
   ],
   "source": [
    "details = [(name,cluster) for name, cluster in zip(returns.index,idx)]\n",
    "for detail in details:\n",
    "    print(detail)"
   ]
  },
  {
   "cell_type": "code",
   "execution_count": null,
   "metadata": {},
   "outputs": [],
   "source": []
  }
 ],
 "metadata": {
  "kernelspec": {
   "display_name": "Python 3",
   "language": "python",
   "name": "python3"
  },
  "language_info": {
   "codemirror_mode": {
    "name": "ipython",
    "version": 3
   },
   "file_extension": ".py",
   "mimetype": "text/x-python",
   "name": "python",
   "nbconvert_exporter": "python",
   "pygments_lexer": "ipython3",
   "version": "3.7.0"
  }
 },
 "nbformat": 4,
 "nbformat_minor": 2
}
