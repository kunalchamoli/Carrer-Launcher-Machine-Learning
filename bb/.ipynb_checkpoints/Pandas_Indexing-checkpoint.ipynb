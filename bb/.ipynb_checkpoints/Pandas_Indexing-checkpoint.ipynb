{
 "cells": [
  {
   "cell_type": "markdown",
   "metadata": {},
   "source": [
    "## Different Choices Of Indexing"
   ]
  },
  {
   "cell_type": "markdown",
   "metadata": {},
   "source": [
    "**.loc** is primarily label based, but may also be used with a boolean array. .loc will raise KeyError when the items are not found.Allowed inputs are:\n",
    "\n",
    "1) A single label, e.g. 5 or 'a' (Note that 5 is interpreted as a label of the index. This use is not an integer position along the index.).\n",
    "\n",
    "2) A list or array of labels ['a', 'b', 'c'].\n",
    "\n",
    "3) A slice object with labels 'a':'f' (Note that contrary to usual python slices, both the start and the stop are included, when present in the index!)\n",
    "\n",
    "4) A boolean array\n",
    "\n",
    "5) A callable function with one argument (the calling Series, DataFrame or Panel) and that returns valid output for indexing (one of the above).\n",
    "\n"
   ]
  }
 ],
 "metadata": {
  "kernelspec": {
   "display_name": "Python 3",
   "language": "python",
   "name": "python3"
  },
  "language_info": {
   "codemirror_mode": {
    "name": "ipython",
    "version": 3
   },
   "file_extension": ".py",
   "mimetype": "text/x-python",
   "name": "python",
   "nbconvert_exporter": "python",
   "pygments_lexer": "ipython3",
   "version": "3.7.1"
  }
 },
 "nbformat": 4,
 "nbformat_minor": 2
}
